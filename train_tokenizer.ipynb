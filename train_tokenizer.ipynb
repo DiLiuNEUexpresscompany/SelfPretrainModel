{
 "cells": [
  {
   "cell_type": "code",
   "execution_count": 1,
   "metadata": {},
   "outputs": [],
   "source": [
    "import os\n",
    "import json\n",
    "from tokenizers import Tokenizer,models,pre_tokenizers,trainers"
   ]
  },
  {
   "cell_type": "code",
   "execution_count": 2,
   "metadata": {},
   "outputs": [],
   "source": [
    "# 加载数据\n",
    "def load_date(path):\n",
    "    with open(path, 'r', encoding='utf-8') as f: \n",
    "        for line in f:\n",
    "            data=json.loads(line) #逐行读取，解析line为json\n",
    "            yield data['text'] # 返回json中的text, yield用于逐步从文件中提取 'text' 字段, yield方法非常适合处理大文件，因为它不会一次性将整个文件加载到内存中，而是逐行处理\n"
   ]
  },
  {
   "cell_type": "markdown",
   "metadata": {},
   "source": [
    "## BEP（Byte Pair Encoding）编码\n",
    "### BPE 的核心思想\n",
    "BPE 是一种数据压缩算法，后来被应用于自然语言处理中的分词任务。它的核心思想是通过逐步合并频繁出现的字节对（或字符对）来构建词汇表。\n",
    "\n",
    "### BPE 的工作流程\n",
    "1. 初始化词汇表:\n",
    "将文本拆分为最小的单元（如字符或字节）。\n",
    "例如，文本 `\"low lower lowest\"` 会被拆分为：`['l', 'o', 'w', ' ', 'l', 'o', 'w', 'e', 'r', ' ', 'l', 'o', 'w', 'e', 's', 't']`。\n",
    "\n",
    "2. 统计字节对频率:\n",
    "统计所有相邻字节对的出现频率。\n",
    "例如，`('l', 'o')` 出现了 3 次，`('o', 'w')` 出现了 3 次。\n",
    "\n",
    "3. 合并最频繁的字节对:\n",
    "将最频繁的字节对合并为一个新的符号，并更新词汇表。\n",
    "例如，合并 `('l', 'o')` 为 `'lo'`，词汇表变为：`['lo', 'w', ' ', 'lo', 'w', 'e', 'r', ' ', 'lo', 'w', 'e', 's', 't']`。\n",
    "\n",
    "4. 重复合并过程:\n",
    "重复上述步骤，直到达到预定的词汇表大小或没有更多可合并的字节对。\n",
    "例如，合并 `('lo', 'w')` 为 `'low'`，词汇表变为：`['low', ' ', 'low', 'e', 'r', ' ', 'low', 'e', 's', 't']`。\n",
    "\n",
    "5. 最终词汇表:\n",
    "最终词汇表包含原始字符和合并后的子词。\n",
    "例如，`['low', ' ', 'lower', ' ', 'lowest']`。\n",
    "\n",
    "### BPE 的优点\n",
    "1. 处理未登录词:\n",
    "通过将未知词拆分为已知的子词，BPE 能够有效地处理未登录词。\n",
    "例如，`\"unhappiness\"` 可以被拆分为 `\"un\", \"happiness\"`。\n",
    "\n",
    "2. 词汇表大小可控:\n",
    "通过调整合并次数，可以控制词汇表的大小。\n",
    "\n",
    "3. 多语言支持:\n",
    "BPE 基于字节或字符，因此可以处理多种语言的文本。"
   ]
  },
  {
   "cell_type": "code",
   "execution_count": 3,
   "metadata": {},
   "outputs": [],
   "source": [
    "tokenizer=Tokenizer(models.BPE()) \n",
    "tokenizer.pre_tokenizer=pre_tokenizers.ByteLevel(add_prefix_space=True)"
   ]
  }
 ],
 "metadata": {
  "kernelspec": {
   "display_name": "yoloqt",
   "language": "python",
   "name": "python3"
  },
  "language_info": {
   "codemirror_mode": {
    "name": "ipython",
    "version": 3
   },
   "file_extension": ".py",
   "mimetype": "text/x-python",
   "name": "python",
   "nbconvert_exporter": "python",
   "pygments_lexer": "ipython3",
   "version": "3.9.16"
  }
 },
 "nbformat": 4,
 "nbformat_minor": 2
}
